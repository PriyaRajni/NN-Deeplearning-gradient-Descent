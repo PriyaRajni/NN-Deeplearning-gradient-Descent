{
 "cells": [
  {
   "cell_type": "markdown",
   "id": "f2be3fc2",
   "metadata": {},
   "source": [
    "Perform the pip install : pip install torch torchvision"
   ]
  },
  {
   "cell_type": "code",
   "execution_count": 1,
   "id": "55ef4d7e",
   "metadata": {},
   "outputs": [],
   "source": [
    "import torch\n",
    "import torch.nn as nn\n",
    "import torch.nn.functional as F"
   ]
  },
  {
   "cell_type": "code",
   "execution_count": null,
   "id": "48b61b87",
   "metadata": {},
   "outputs": [],
   "source": [
    "X = torch.randn(5, 784)  \n",
    "y = torch.tensor([3, 1, 4, 7, 0])  "
   ]
  },
  {
   "cell_type": "markdown",
   "id": "b76f0cec",
   "metadata": {},
   "source": [
    "Define a simple feedforward neural network"
   ]
  },
  {
   "cell_type": "code",
   "execution_count": 3,
   "id": "3fb16d60",
   "metadata": {},
   "outputs": [],
   "source": [
    "class SimpleNN(nn.Module):\n",
    "    def __init__(self):\n",
    "        super(SimpleNN, self).__init__()\n",
    "        self.fc1 = nn.Linear(784, 128)\n",
    "        self.fc2 = nn.Linear(128, 10)  # Output layer for 10 classes\n",
    "\n",
    "    def forward(self, x):\n",
    "        x = F.relu(self.fc1(x))\n",
    "        return self.fc2(x)"
   ]
  },
  {
   "cell_type": "markdown",
   "id": "8f0a1af8",
   "metadata": {},
   "source": [
    "Initialize the model and loss function"
   ]
  },
  {
   "cell_type": "code",
   "execution_count": 4,
   "id": "907b96e6",
   "metadata": {},
   "outputs": [],
   "source": [
    "model = SimpleNN()\n",
    "criterion = nn.CrossEntropyLoss() "
   ]
  },
  {
   "cell_type": "code",
   "execution_count": 5,
   "id": "52380a1c",
   "metadata": {},
   "outputs": [],
   "source": [
    "output = model(X)"
   ]
  },
  {
   "cell_type": "markdown",
   "id": "c80efcb5",
   "metadata": {},
   "source": [
    "Compute loss comparing "
   ]
  },
  {
   "cell_type": "code",
   "execution_count": 6,
   "id": "b8718ae5",
   "metadata": {},
   "outputs": [
    {
     "name": "stdout",
     "output_type": "stream",
     "text": [
      "Cross-Entropy Loss: 2.2782\n"
     ]
    }
   ],
   "source": [
    "loss = criterion(output, y)\n",
    "print(f\"Cross-Entropy Loss: {loss.item():.4f}\")"
   ]
  },
  {
   "cell_type": "markdown",
   "id": "4f544225",
   "metadata": {},
   "source": [
    "Predict the digit "
   ]
  },
  {
   "cell_type": "code",
   "execution_count": 7,
   "id": "61161749",
   "metadata": {},
   "outputs": [
    {
     "name": "stdout",
     "output_type": "stream",
     "text": [
      "Predicted digits: tensor([8, 8, 8, 3, 2])\n"
     ]
    }
   ],
   "source": [
    "predicted = torch.argmax(output, dim=1)\n",
    "print(\"Predicted digits:\", predicted)"
   ]
  }
 ],
 "metadata": {
  "kernelspec": {
   "display_name": "venv_gradientDes",
   "language": "python",
   "name": "python3"
  },
  "language_info": {
   "codemirror_mode": {
    "name": "ipython",
    "version": 3
   },
   "file_extension": ".py",
   "mimetype": "text/x-python",
   "name": "python",
   "nbconvert_exporter": "python",
   "pygments_lexer": "ipython3",
   "version": "3.11.0"
  }
 },
 "nbformat": 4,
 "nbformat_minor": 5
}
